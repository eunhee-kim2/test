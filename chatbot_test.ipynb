{
  "nbformat": 4,
  "nbformat_minor": 0,
  "metadata": {
    "colab": {
      "provenance": [],
      "authorship_tag": "ABX9TyMCaWvvuFatmszKUUzyQz+q",
      "include_colab_link": true
    },
    "kernelspec": {
      "name": "python3",
      "display_name": "Python 3"
    },
    "language_info": {
      "name": "python"
    }
  },
  "cells": [
    {
      "cell_type": "markdown",
      "metadata": {
        "id": "view-in-github",
        "colab_type": "text"
      },
      "source": [
        "<a href=\"https://colab.research.google.com/github/eunhee-kim2/test/blob/main/chatbot_test.ipynb\" target=\"_parent\"><img src=\"https://colab.research.google.com/assets/colab-badge.svg\" alt=\"Open In Colab\"/></a>"
      ]
    },
    {
      "cell_type": "code",
      "source": [],
      "metadata": {
        "id": "NjKrDONlE5xw"
      },
      "execution_count": null,
      "outputs": []
    },
    {
      "cell_type": "markdown",
      "source": [
        "===>결론 : 챗봇 성능이 안좋음."
      ],
      "metadata": {
        "id": "C9UMg-xdFykU"
      }
    },
    {
      "cell_type": "markdown",
      "source": [
        "1. 실습 환경 준비\n",
        "Google Colab 바로가기\n",
        "\n",
        "새 노트북 생성\n",
        "\n",
        "2. 라이브러리 설치\n",
        "아래 코드를 새 셀에 붙여넣고 실행하세요."
      ],
      "metadata": {
        "id": "v6KZxf0lE75O"
      }
    },
    {
      "cell_type": "code",
      "execution_count": null,
      "metadata": {
        "id": "HXhg71HjEeTZ"
      },
      "outputs": [],
      "source": [
        "!pip install transformers\n"
      ]
    },
    {
      "cell_type": "markdown",
      "source": [
        "3. 초간단 챗봇 만들기 (Hugging Face Transformers, KoGPT 사용)\n",
        "아래 예시는 한국어를 잘 이해하는 오픈소스 언어모델(예: skt/kogpt2-base-v2)로 챗봇을 만드는 방법입니다."
      ],
      "metadata": {
        "id": "OR4jvxuXE-pJ"
      }
    },
    {
      "cell_type": "code",
      "source": [
        "from transformers import AutoModelForCausalLM, AutoTokenizer\n",
        "import torch\n",
        "\n",
        "# 모델과 토크나이저 불러오기 (KoGPT2)\n",
        "tokenizer = AutoTokenizer.from_pretrained(\"skt/kogpt2-base-v2\")\n",
        "model = AutoModelForCausalLM.from_pretrained(\"skt/kogpt2-base-v2\")\n",
        "\n",
        "def chatbot(prompt):\n",
        "    input_ids = tokenizer.encode(prompt, return_tensors=\"pt\")\n",
        "    with torch.no_grad():\n",
        "        output = model.generate(\n",
        "            input_ids,\n",
        "            max_length=60,\n",
        "            pad_token_id=tokenizer.eos_token_id,\n",
        "            do_sample=True,\n",
        "            top_k=50,\n",
        "            top_p=0.95\n",
        "        )\n",
        "    answer = tokenizer.decode(output[0], skip_special_tokens=True)\n",
        "    return answer[len(prompt):].strip()\n",
        "\n",
        "# 챗봇 대화 예시\n",
        "while True:\n",
        "    user_input = input(\"당신: \")\n",
        "    if user_input.lower() in [\"exit\", \"quit\", \"종료\"]:\n",
        "        print(\"챗봇을 종료합니다.\")\n",
        "        break\n",
        "    response = chatbot(user_input)\n",
        "    print(\"챗봇:\", response)\n"
      ],
      "metadata": {
        "id": "3KdUoqqtE1l-"
      },
      "execution_count": null,
      "outputs": []
    },
    {
      "cell_type": "markdown",
      "source": [
        "코랩에서는 input()을 쓰면 인터랙티브하게 작동하지 않을 수 있습니다.\n",
        "아래처럼 셀을 여러 번 실행하면서 프롬프트에 한 번씩 입력하는 식으로도 실습할 수 있습니다."
      ],
      "metadata": {
        "id": "syvdIZQNFFUV"
      }
    },
    {
      "cell_type": "code",
      "source": [
        "# 예시\n",
        "prompt = \"안녕! 오늘 날씨 어때?\"\n",
        "print(\"챗봇:\", chatbot(prompt))"
      ],
      "metadata": {
        "id": "2D1TbwknFIAf"
      },
      "execution_count": null,
      "outputs": []
    },
    {
      "cell_type": "markdown",
      "source": [
        "4. 한글 대화 예시"
      ],
      "metadata": {
        "id": "8uJH9XQeFJ-G"
      }
    },
    {
      "cell_type": "code",
      "source": [
        "prompt = \"안녕하세요. 자기소개 해주세요.\"\n",
        "print(\"챗봇:\", chatbot(prompt))"
      ],
      "metadata": {
        "id": "SjXvqstiFMWB"
      },
      "execution_count": null,
      "outputs": []
    },
    {
      "cell_type": "markdown",
      "source": [
        "5. 참고: 더 발전된 챗봇/모델 원할 때\n",
        "무료+최신+성능 원하는 경우,\n",
        "Hugging Face Hub에서\n",
        "\"text-generation\", \"Korean\"으로 검색!\n",
        "\n",
        "KULLM, Polyglot, KoAlpaca, snunlp/KR-BERT 등 최신 Ko-LLM 모델도 대부분 무료로 사용 가능\n",
        "\n",
        "6. 최신 무료 한국어 AI 챗봇 실습 Colab 추천 노트북\n",
        "KoGPT2 기반 한글 챗봇 실습 Colab 예시\n",
        "\n",
        "HuggingFace Transformers 한국어 챗봇 튜토리얼\n",
        "\n",
        "✅ 요약\n",
        "코랩 + transformers 라이브러리 + KoGPT2 모델 조합이면 무료/최신/성능/한글 모두 OK!\n",
        "\n",
        "한글 프롬프트, 한글 답변 모두 잘 됩니다.\n",
        "\n",
        "위 예시에서 prompt만 바꿔가며 대화해보세요.\n",
        "\n",
        "실습 더 원하거나, WebUI 챗봇/파일 입출력 등 원하는 형태로 커스터마이즈도 가능합니다."
      ],
      "metadata": {
        "id": "Zy0oRZFhFRNx"
      }
    }
  ]
}